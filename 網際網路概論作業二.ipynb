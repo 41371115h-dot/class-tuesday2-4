{
  "nbformat": 4,
  "nbformat_minor": 0,
  "metadata": {
    "colab": {
      "provenance": [],
      "authorship_tag": "ABX9TyN0qWzUC1boST/hTwECrAaT",
      "include_colab_link": true
    },
    "kernelspec": {
      "name": "python3",
      "display_name": "Python 3"
    },
    "language_info": {
      "name": "python"
    }
  },
  "cells": [
    {
      "cell_type": "markdown",
      "metadata": {
        "id": "view-in-github",
        "colab_type": "text"
      },
      "source": [
        "<a href=\"https://colab.research.google.com/github/41371115h-dot/class-tuesday2-4/blob/main/%E7%B6%B2%E9%9A%9B%E7%B6%B2%E8%B7%AF%E6%A6%82%E8%AB%96%E4%BD%9C%E6%A5%AD%E4%BA%8C.ipynb\" target=\"_parent\"><img src=\"https://colab.research.google.com/assets/colab-badge.svg\" alt=\"Open In Colab\"/></a>"
      ]
    },
    {
      "cell_type": "code",
      "execution_count": null,
      "metadata": {
        "id": "jL59UXz_8OC2"
      },
      "outputs": [],
      "source": [
        "!pip install requests pandas"
      ]
    },
    {
      "cell_type": "code",
      "source": [
        "import requests\n",
        "\n",
        "# 替換成實際的 API URL\n",
        "url = 'https://citydashboard.taipei/api/v1/dashboard/'\n",
        "\n",
        "# 發送 GET 請求並檢查回應\n",
        "response = requests.get(url)\n",
        "\n",
        "if response.status_code == 200:\n",
        "    data = response.json()  # 假設回傳的是 JSON 格式\n",
        "    print(data)\n",
        "else:\n",
        "    print(f\"Failed to retrieve data: {response.status_code}\")\n"
      ],
      "metadata": {
        "id": "CA_mg7nT80k-"
      },
      "execution_count": null,
      "outputs": []
    },
    {
      "cell_type": "code",
      "source": [
        "{'data': {'public': [{'index': 'map-layers-taipei',\n",
        "    'name': '圖資資訊',\n",
        "    'components': [109, 91, 105, 30, 115, 16, 9, 11, 14, 15, 106, 219],\n",
        "    'icon': 'public',\n",
        "    'updated_at': '2025-04-01T08:28:11.329284Z'},\n",
        "   {'index': 'taipei_test_add1',\n",
        "    'name': '台北新增測試',\n",
        "    'components': [],\n",
        "    'icon': 'star',\n",
        "    'updated_at': '2025-02-20T06:50:33.139118Z'}],\n",
        "  'taipei': [{'index': 'metro',\n",
        "    'name': '捷運系統',\n",
        "    'components': [73, 79, 116, 117, 68, 217],\n",
        "    'icon': 'train',\n",
        "    'updated_at': '2025-03-20T01:32:43.399727Z'},\n",
        "   {'index': 'traffic',\n",
        "    'name': '道路交通',\n",
        "    'components': [57, 114, 20, 22, 176],\n",
        "    'icon': 'emoji_transportation',\n",
        "    'updated_at': '2024-03-27T03:32:57.292901Z'},\n",
        "   {'index': 'youbike',\n",
        "    'name': '共享單車',\n",
        "    'components': [60, 143, 142, 144, 145, 146, 147],\n",
        "    'icon': 'pedal_bike',\n",
        "    'updated_at': '2024-03-21T09:39:31.82319Z'},\n",
        "   {'index': 'planning',\n",
        "    'name': '都市規劃',\n",
        "    'components': [34, 42, 33, 103, 104, 111],\n",
        "    'icon': 'home_work',\n",
        "    'updated_at': '2025-04-07T05:20:41.774087Z'},\n",
        "   {'index': 'construction',\n",
        "    'name': '城市建設',\n",
        "    'components': [28, 29, 140, 108, 110],\n",
        "    'icon': 'construction',\n",
        "    'updated_at': '2024-04-01T07:41:10.603091Z'},\n",
        "   {'index': 'childcare',\n",
        "    'name': '婦幼資源',\n",
        "    'components': [150, 151, 153, 154, 155, 156],\n",
        "    'icon': 'stroller',\n",
        "    'updated_at': '2024-03-21T09:49:25.21199Z'},\n",
        "   {'index': 'services',\n",
        "    'name': '為民服務',\n",
        "    'components': [176, 177, 141, 178, 20, 7, 5, 210, 211, 244, 245, 286],\n",
        "    'icon': 'emoji_people',\n",
        "    'updated_at': '2025-09-02T06:59:47.065006Z'},\n",
        "   {'index': 'map-layers-taipei',\n",
        "    'name': '圖資資訊',\n",
        "    'components': [109, 91, 105, 30, 115, 16, 9, 11, 14, 15, 106, 219],\n",
        "    'icon': 'public',\n",
        "    'updated_at': '2025-04-01T08:28:11.329284Z'},\n",
        "   {'index': 'climate-change',\n",
        "    'name': '氣候變遷',\n",
        "    'components': [103,\n",
        "     173,\n",
        "     175,\n",
        "     110,\n",
        "     60,\n",
        "     174,\n",
        "     143,\n",
        "     111,\n",
        "     200,\n",
        "     201,\n",
        "     202,\n",
        "     203,\n",
        "     207,\n",
        "     208,\n",
        "     209],\n",
        "    'icon': 'cloud',\n",
        "    'updated_at': '2025-02-10T02:53:03.971275Z'},\n",
        "   {'index': 'disaster-prevention',\n",
        "    'name': '防災都市',\n",
        "    'components': [255, 172, 171, 162, 42, 59, 163, 16, 204, 205, 206, 43],\n",
        "    'icon': 'local_fire_department',\n",
        "    'updated_at': '2025-08-26T09:43:07.722631Z'},\n",
        "   {'index': 'ltc_care_tpe',\n",
        "    'name': '健康守護',\n",
        "    'components': [258, 252, 256, 257, 214, 215, 216, 218],\n",
        "    'icon': 'health_and_safety',\n",
        "    'updated_at': '2025-08-15T06:24:08.42771Z'},\n",
        "   {'index': 'biz_revive_tpe',\n",
        "    'name': '商圈活化',\n",
        "    'components': [260, 259, 247, 248, 249, 250, 251, 261, 286],\n",
        "    'icon': 'shopping_cart',\n",
        "    'updated_at': '2025-09-02T07:02:11.51976Z'}],\n",
        "  'metrotaipei': [{'index': 'practical_transportation_newtpe',\n",
        "    'name': '務實交通',\n",
        "    'components': [60, 212, 213],\n",
        "    'icon': 'directions_car',\n",
        "    'updated_at': '2025-03-20T01:33:09.595314Z'},\n",
        "   {'index': 'disaster-prevention-metrotpe',\n",
        "    'name': '防災都市',\n",
        "    'components': [255, 171, 172],\n",
        "    'icon': 'local_fire_department',\n",
        "    'updated_at': '2025-08-15T06:24:40.312476Z'},\n",
        "   {'index': 'map-layers-metrotaipei',\n",
        "    'name': '圖資資訊',\n",
        "    'components': [219],\n",
        "    'icon': 'public',\n",
        "    'updated_at': '2025-03-30T07:24:36.209015Z'},\n",
        "   {'index': 'ltc_care_newtpe',\n",
        "    'name': '健康守護',\n",
        "    'components': [258, 252, 256, 257, 214, 215, 216, 218],\n",
        "    'icon': 'health_and_safety',\n",
        "    'updated_at': '2025-08-15T06:24:31.238064Z'},\n",
        "   {'index': 'biz_revive_metrotaipei',\n",
        "    'name': '商圈活化',\n",
        "    'components': [260, 247, 248, 249, 250, 261],\n",
        "    'icon': 'shopping_cart',\n",
        "    'updated_at': '2025-08-15T03:49:51.704195Z'}],\n",
        "  'personal': []},\n",
        " 'status': 'success'}"
      ],
      "metadata": {
        "id": "1DZ1IUcU82XL"
      },
      "execution_count": null,
      "outputs": []
    },
    {
      "cell_type": "code",
      "source": [
        "data = data.get('data', {})"
      ],
      "metadata": {
        "id": "qhdHjL3i84Pg"
      },
      "execution_count": null,
      "outputs": []
    },
    {
      "cell_type": "code",
      "source": [
        "import pandas as pd\n",
        "import json\n",
        "\n",
        "# --- Step 1: Normalize the data into a list of records ---\n",
        "all_records = []\n",
        "for category, items in data.items():\n",
        "    for item in items:\n",
        "        # Add the category (public, taipei, metrotaipei, personal) to each record\n",
        "        item['category'] = category\n",
        "        # Convert the list of components into a string for better table display\n",
        "        item['components'] = ', '.join(map(str, item['components']))\n",
        "        all_records.append(item)\n",
        "\n",
        "# --- Step 2: Convert the list of records into a pandas DataFrame ---\n",
        "df = pd.DataFrame(all_records)\n",
        "\n",
        "# --- Step 3: Optional: Reorder and Rename columns for presentation (中文欄位名稱) ---\n",
        "# Define the desired order and new names for the columns\n",
        "column_mapping = {\n",
        "    'category': '分類',\n",
        "    'index': '索引',\n",
        "    'name': '名稱',\n",
        "    'icon': '圖標',\n",
        "    'components': '元件列表',\n",
        "    'updated_at': '更新時間'\n",
        "}\n",
        "\n",
        "# Select and rename the columns\n",
        "df = df[list(column_mapping.keys())].rename(columns=column_mapping)\n",
        "\n",
        "# --- Step 4: Convert the DataFrame to an HTML table string ---\n",
        "# index=False means we don't include the default pandas index as a column\n",
        "# escape=False is used in case the data contains any HTML entities (like icons)\n",
        "html_table = df.to_html(index=False, escape=False)\n",
        "\n",
        "# --- Step 5: Print the resulting HTML ---\n",
        "print(html_table)"
      ],
      "metadata": {
        "id": "_pjjhr_u86a8"
      },
      "execution_count": null,
      "outputs": []
    }
  ]
}